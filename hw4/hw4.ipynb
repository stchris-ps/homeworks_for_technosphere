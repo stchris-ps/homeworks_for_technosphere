{
 "cells": [
  {
   "cell_type": "markdown",
   "metadata": {},
   "source": [
    "### Алгоритмы интеллектуальной обработки больших объемов данных\n",
    "## Домашнее задание №4 - Градиентный бустинг\n"
   ]
  },
  {
   "cell_type": "markdown",
   "metadata": {},
   "source": [
    "**Общая информация**\n",
    "\n",
    "**Срок сдачи:** 10 мая 2021, 08:30   \n",
    "**Штраф за опоздание:** -2 балла после 08:30 10 мая, -4 балла после 08:30 17 мая, -6 баллов после 08:30 24 мая, -8 баллов после 08:30 31 мая.\n",
    "\n",
    "При отправлении ДЗ указывайте фамилию в названии файла Присылать ДЗ необходимо в виде ссылки на свой github репозиторий на почту ml1.sphere@mail.ru с указанием темы в следующем формате:\n",
    "[ML0221, Задание 4] Фамилия Имя. \n",
    "\n",
    "\n",
    "Используйте данный Ipython Notebook при оформлении домашнего задания."
   ]
  },
  {
   "cell_type": "markdown",
   "metadata": {},
   "source": [
    "##  Считаем производные для функций потерь (1 балл)"
   ]
  },
  {
   "cell_type": "markdown",
   "metadata": {},
   "source": [
    "Мы будем реализовать градиентный бустинг для 3 функций потерь:\n",
    "\n",
    "1) MSE  $L(a(x_i), y_i) = (y_i - a(x_i)) ^ 2$\n",
    "\n",
    "2) Экспоненциальная  $L(a(x_i), y_i) = exp( -a(x_i) y_i), y_i \\in \\{-1, 1\\}$\n",
    "\n",
    "3) Логистическая  $L(a(x_i), y_i) = \\log (1 + exp( -a(x_i) y_i)), y_i \\in \\{-1, 1\\}$\n",
    "\n",
    "где $a(x_i)$ предсказание бустинга на итом объекте. \n",
    "\n",
    "Для каждой функции потерь напишите таргет, на который будет настраиваться каждое дерево в бустинге. "
   ]
  },
  {
   "cell_type": "markdown",
   "metadata": {},
   "source": [
    "##### Будем смотреть на k-той итерации"
   ]
  },
  {
   "cell_type": "markdown",
   "metadata": {},
   "source": [
    "1) MSE: $-\\dfrac{\\partial MSE}{\\partial F}(F_{k-1}(x_i), y_i)=  -2*(F_{k-1}(x_i) - y_i) $"
   ]
  },
  {
   "cell_type": "markdown",
   "metadata": {},
   "source": [
    "2) Экспоненциальная: $ -\\dfrac{\\partial}{\\partial F}exp(-F_{k-1}(x_i) y_i)=-\\exp(-y_i F_{k-1}(x_i))(-y_i) =  y_i*\\exp(-y_i F_{k-1}(x_i))$"
   ]
  },
  {
   "cell_type": "markdown",
   "metadata": {},
   "source": [
    "3) Логистическая: $ -\\dfrac{\\partial L}{\\partial}(\\log (1 + exp( -F_{k-1}(x_i) y_i))) = \\dfrac{y_i*\\exp(-y_i F_{k-1}(x_i))}{1 + \\exp(-y_i F_{k-1}(x_i)} = \\dfrac{y_i}{1 + \\exp(y_i F_{k-1}(x_i))}$"
   ]
  },
  {
   "cell_type": "markdown",
   "metadata": {},
   "source": [
    "##  Реализуем градиентный бустинг (3 балла)"
   ]
  },
  {
   "cell_type": "markdown",
   "metadata": {},
   "source": [
    "Реализуйте класс градиентного бустинга для классификации. Ваша реализация бустинга должна работать по точности не более чем на 5 процентов хуже чем GradientBoostingClassifier из sklearn. \n"
   ]
  },
  {
   "cell_type": "markdown",
   "metadata": {},
   "source": [
    "Детали реализации:\n",
    "\n",
    "-- должно поддерживаться 3 функции потерь\n",
    "\n",
    "-- сами базовые алгоритмы(деревья, линейные модели и тп) реализовать не надо, просто возьмите готовые из sklearn\n",
    "\n",
    "-- в качестве функции потерь для построения одного дерева используйте MSE\n",
    "\n",
    "-- шаг в бустинге можно не подбирать, можно брать константный\n",
    "\n",
    "-- можно брать разные модели в качестве инициализации бустинга\n",
    "\n",
    "-- должны поддерживаться следующие параметры:\n",
    "\n",
    "а) число итераций\n",
    "б) размер шага\n",
    "в) процент случайных фичей при построении одного дерева\n",
    "д) процент случайных объектов при построении одного дерева\n",
    "е) параметры базового алгоритма (передавайте через **kwargs)"
   ]
  },
  {
   "cell_type": "code",
   "execution_count": 13,
   "metadata": {},
   "outputs": [],
   "source": [
    "import numpy as np\n",
    "\n",
    "from sklearn.datasets import load_wine\n",
    "from sklearn.ensemble import GradientBoostingClassifier\n",
    "from sklearn.metrics import accuracy_score\n",
    "from sklearn.model_selection import train_test_split\n",
    "from sklearn.tree import DecisionTreeRegressor"
   ]
  },
  {
   "cell_type": "code",
   "execution_count": 14,
   "metadata": {},
   "outputs": [],
   "source": [
    "class MyGradientBoostingClassifier:\n",
    "\n",
    "    def __init__(self, loss='MSE', learning_rate=0.1, n_estimators=100, colsample=1.0, subsample=1.0, *args, **kwargs):\n",
    "        \"\"\"\n",
    "        loss -- один из 3 лоссов:\n",
    "        learning_rate -- шаг бустинга\n",
    "        n_estimators -- число итераций\n",
    "        colsample -- процент рандомных признаков при обучнеии одного алгоритма\n",
    "        colsample -- процент рандомных объектов при обучнеии одного алгоритма\n",
    "        args, kwargs -- параметры  базовых моделей\n",
    "        \"\"\"\n",
    "        self.loss = loss\n",
    "        self.fitted = []\n",
    "        self.feats = []\n",
    "        self.learning_rate = learning_rate\n",
    "        self.n_estimators = n_estimators\n",
    "        self.colsample = colsample\n",
    "        self.subsample = subsample\n",
    "        self.args = args\n",
    "        self.kwargs = kwargs\n",
    "    \n",
    "    def fit(self, X, y, base_model=DecisionTreeRegressor, init_model=None):\n",
    "        \"\"\"\n",
    "        X -- объекты для обучения:\n",
    "        y -- таргеты для обучения\n",
    "        base_model -- класс базовых моделей, например sklearn.tree.DecisionTreeRegressor\n",
    "        init_model -- класс для первой модели, если None то берем константу (только для посл задания)\n",
    "        \"\"\"\n",
    "        \n",
    "        if init_model is None:\n",
    "            self.in_pr = np.zeros_like(y).astype('float64')\n",
    "        else:\n",
    "            init_model.fit(X,y)\n",
    "            self.in_pr = init_model.predict(X).astype('float64')\n",
    "            self.fitted.append(init_model)\n",
    "            self.feats.append(np.arange(X.shape[1]))\n",
    "\n",
    "        num_prizn = int(self.subsample * X.shape[0])\n",
    "        num_features = int(self.colsample * X.shape[1])\n",
    "        \n",
    "        \n",
    "        for step in range(self.n_estimators):\n",
    "            model = base_model(*self.args, **self.kwargs)\n",
    "            \n",
    "            ind = np.random.choice(X.shape[0], num_prizn)\n",
    "            features =  np.sort(np.random.choice(X.shape[1], num_features, replace=False))\n",
    "\n",
    "            X_tr = X[ind][:, features]\n",
    "            self.feats.append(features)\n",
    "\n",
    "            last = self.in_pr[ind]\n",
    "            y_tr = y[ind]\n",
    "                                    \n",
    "            if self.loss == 'MSE':\n",
    "                delta = 2 * (y_tr - last)                        \n",
    "\n",
    "            if self.loss == 'EXP':\n",
    "                delta = y_tr * np.exp(-y_tr * last)\n",
    "\n",
    "            if self.loss == 'LOG':\n",
    "                delta = y_tr / (np.exp(y_tr * last) + 1.0)\n",
    "\n",
    "\n",
    "            model.fit(X_tr, delta)\n",
    "            self.in_pr += self.learning_rate * model.predict(X[:, features])\n",
    "            self.fitted.append(model)\n",
    "        \n",
    "    def predict(self, X):\n",
    "        N = X.shape[0]\n",
    "        M = X.shape[1]\n",
    "        a = np.tile(np.arange(N), M).reshape(-1,N).T\n",
    "        b = np.tile(np.arange(M), N).reshape(-1,M)\n",
    "        predict  = 0\n",
    "        for ii, model in enumerate(self.fitted):\n",
    "            predict += self.learning_rate * model.predict(X[:, self.feats[ii]])\n",
    "        if self.loss == 'MSE':\n",
    "            return (predict > 0.5).astype('int')\n",
    "        if self.loss == 'EXP':\n",
    "            return (predict > 0.5).astype('int')\n",
    "        if self.loss == 'LOG':\n",
    "            return (predict > 0.5).astype('int')"
   ]
  },
  {
   "cell_type": "code",
   "execution_count": 3,
   "metadata": {},
   "outputs": [],
   "source": [
    "my_clf = MyGradientBoostingClassifier()\n",
    "clf = GradientBoostingClassifier()"
   ]
  },
  {
   "cell_type": "code",
   "execution_count": 18,
   "metadata": {},
   "outputs": [],
   "source": [
    "wine = load_wine()\n",
    "X_train, X_test, y_train, y_test = train_test_split(wine.data, wine.target, test_size=0.1, stratify=wine.target)"
   ]
  },
  {
   "cell_type": "code",
   "execution_count": 19,
   "metadata": {},
   "outputs": [
    {
     "name": "stdout",
     "output_type": "stream",
     "text": [
      "1.0\n",
      "1.0\n"
     ]
    }
   ],
   "source": [
    "my_clf.fit(X_train, y_train)\n",
    "clf.fit(X_train, y_train)\n",
    "print(accuracy_score(y_pred=clf.predict(X_test), y_true=y_test))\n",
    "print(accuracy_score(y_pred=my_clf.predict(X_test), y_true=y_test))"
   ]
  },
  {
   "cell_type": "markdown",
   "metadata": {},
   "source": [
    "## Подбираем параметры (2 балла)\n",
    "\n",
    "Давайте попробуем применить Ваш бустинг для предсказаний цены домов в Калифорнии. Чтобы можно было попробовтаь разные функции потерь, переведем по порогу таргет в 2 класса: дорогие и дешевые дома."
   ]
  },
  {
   "cell_type": "markdown",
   "metadata": {},
   "source": [
    "В задании нужно\n",
    "\n",
    "1) Построить график точности в зависимости от числа итераций на валидации.\n",
    "\n",
    "2) Подобрать оптимальные параметры Вашего бустинга на валидации. \n"
   ]
  },
  {
   "cell_type": "code",
   "execution_count": 15,
   "metadata": {},
   "outputs": [],
   "source": [
    "from sklearn.metrics import accuracy_score"
   ]
  },
  {
   "cell_type": "code",
   "execution_count": 16,
   "metadata": {},
   "outputs": [],
   "source": [
    "import matplotlib.pyplot as plt"
   ]
  },
  {
   "cell_type": "code",
   "execution_count": 17,
   "metadata": {},
   "outputs": [],
   "source": [
    "from sklearn.datasets import fetch_california_housing\n",
    "X, y = fetch_california_housing(return_X_y=True)"
   ]
  },
  {
   "cell_type": "code",
   "execution_count": 21,
   "metadata": {},
   "outputs": [
    {
     "name": "stdout",
     "output_type": "stream",
     "text": [
      "(20640, 8) (20640,)\n"
     ]
    }
   ],
   "source": [
    "# Превращаем регрессию в классификацию\n",
    "y = (y > 2.0).astype(int)\n",
    "print(X.shape, y.shape)"
   ]
  },
  {
   "cell_type": "code",
   "execution_count": 22,
   "metadata": {},
   "outputs": [],
   "source": [
    "X_train, X_test, y_train, y_test = train_test_split(X, y, test_size=0.25, random_state=42)"
   ]
  },
  {
   "cell_type": "code",
   "execution_count": 26,
   "metadata": {},
   "outputs": [],
   "source": [
    "accur2 = []\n",
    "for i in [1,2,3,5,7,10,15,20,30,40,50,70,100,150,200,350,500,750,1000]:\n",
    "    alg = MyGradientBoostingClassifier(n_estimators=i)\n",
    "    alg.fit(X_train, y_train)\n",
    "    pred = alg.predict(X_test)\n",
    "    accur2.append(accuracy_score(y_test, pred))"
   ]
  },
  {
   "cell_type": "code",
   "execution_count": 29,
   "metadata": {},
   "outputs": [
    {
     "data": {
      "image/png": "[encoded data removed]",
      "text/plain": [
       "<Figure size 432x288 with 1 Axes>"
      ]
     },
     "metadata": {
      "needs_background": "light"
     },
     "output_type": "display_data"
    }
   ],
   "source": [
    "x = [1,2,3,5,7,10,15,20,30,40,50,70,100,150,200,350,500,750,1000]\n",
    "plt.plot(x,accur2)\n",
    "plt.xlabel('number of trees')\n",
    "plt.ylabel('accuracy')\n",
    "plt.title(\"Dependency of accuracy on number of trees\")\n",
    "plt.show()"
   ]
  },
  {
   "cell_type": "code",
   "execution_count": 30,
   "metadata": {
    "scrolled": true
   },
   "outputs": [
    {
     "data": {
      "image/png": "[encoded data removed]",
      "text/plain": [
       "<Figure size 432x288 with 1 Axes>"
      ]
     },
     "metadata": {
      "needs_background": "light"
     },
     "output_type": "display_data"
    }
   ],
   "source": [
    "x = [1,2,3,5,7,10,15,20,30,40,50,70,100,150,200,350,500,750,1000]\n",
    "plt.plot(x[:-4],accur2[:-4])\n",
    "plt.xlabel('number of trees')\n",
    "plt.ylabel('accuracy')\n",
    "plt.title(\"Dependency of accuracy on number of trees\")\n",
    "plt.show()"
   ]
  },
  {
   "cell_type": "markdown",
   "metadata": {},
   "source": [
    "Видно, что после 30 итераций уже нет смысла увеличивать количество деревьев."
   ]
  },
  {
   "cell_type": "code",
   "execution_count": 31,
   "metadata": {},
   "outputs": [],
   "source": [
    "accur2 = []\n",
    "for i in [0.001,0.01,0.05,0.1,0.2,0.3,0.5,0.7,0.8,0.9,1]:\n",
    "    alg = MyGradientBoostingClassifier(n_estimators=30, learning_rate=i)\n",
    "    alg.fit(X_train, y_train)\n",
    "    pred = alg.predict(X_test)\n",
    "    accur2.append(accuracy_score(y_test, pred))"
   ]
  },
  {
   "cell_type": "code",
   "execution_count": 32,
   "metadata": {},
   "outputs": [
    {
     "data": {
      "text/plain": [
       "[0.5800387596899225,\n",
       " 0.5800387596899225,\n",
       " 0.8848837209302326,\n",
       " 0.8707364341085271,\n",
       " 0.8505813953488373,\n",
       " 0.8038759689922481,\n",
       " 0.7054263565891473,\n",
       " 0.08333333333333333,\n",
       " 0.0011627906976744186,\n",
       " 0.0,\n",
       " 0.0]"
      ]
     },
     "execution_count": 32,
     "metadata": {},
     "output_type": "execute_result"
    }
   ],
   "source": [
    "accur2"
   ]
  },
  {
   "cell_type": "markdown",
   "metadata": {},
   "source": [
    "best lr=0.05"
   ]
  },
  {
   "cell_type": "code",
   "execution_count": 35,
   "metadata": {},
   "outputs": [],
   "source": [
    "accur2 = []\n",
    "for i in [0.2,0.4,0.6,0.8,1.0]:\n",
    "    alg = MyGradientBoostingClassifier(n_estimators=30, learning_rate=0.05,colsample=i)\n",
    "    alg.fit(X_train, y_train)\n",
    "    pred = alg.predict(X_test)\n",
    "    accur2.append(accuracy_score(y_test, pred))"
   ]
  },
  {
   "cell_type": "code",
   "execution_count": 36,
   "metadata": {},
   "outputs": [
    {
     "data": {
      "text/plain": [
       "[0.7401162790697674,\n",
       " 0.8313953488372093,\n",
       " 0.8625968992248062,\n",
       " 0.8819767441860465,\n",
       " 0.8817829457364341]"
      ]
     },
     "execution_count": 36,
     "metadata": {},
     "output_type": "execute_result"
    }
   ],
   "source": [
    "accur2 "
   ]
  },
  {
   "cell_type": "markdown",
   "metadata": {},
   "source": [
    "best colsample=0.8"
   ]
  },
  {
   "cell_type": "markdown",
   "metadata": {},
   "source": [
    "Теперь, попробуем снова увеличить количество деревьев."
   ]
  },
  {
   "cell_type": "code",
   "execution_count": 44,
   "metadata": {},
   "outputs": [],
   "source": [
    "accur2 = []\n",
    "for i in [0.2,0.4,0.6,0.8,1.0,1.2,1.4]:\n",
    "    alg = MyGradientBoostingClassifier(n_estimators=30, learning_rate=0.05,colsample=0.8, subsample=i)\n",
    "    alg.fit(X_train, y_train)\n",
    "    pred = alg.predict(X_test)\n",
    "    accur2.append(accuracy_score(y_test, pred))"
   ]
  },
  {
   "cell_type": "code",
   "execution_count": 45,
   "metadata": {},
   "outputs": [
    {
     "data": {
      "text/plain": [
       "[0.875,\n",
       " 0.8866279069767442,\n",
       " 0.890891472868217,\n",
       " 0.8916666666666667,\n",
       " 0.8833333333333333,\n",
       " 0.8722868217054264,\n",
       " 0.8748062015503876]"
      ]
     },
     "execution_count": 45,
     "metadata": {},
     "output_type": "execute_result"
    }
   ],
   "source": [
    "accur2"
   ]
  },
  {
   "cell_type": "markdown",
   "metadata": {},
   "source": [
    "best subsample = 0.8"
   ]
  },
  {
   "cell_type": "code",
   "execution_count": 50,
   "metadata": {},
   "outputs": [],
   "source": [
    "accur2 = []\n",
    "for i in [2,3,5,7,9,13,15]:\n",
    "    alg = MyGradientBoostingClassifier(n_estimators=30, learning_rate=0.05,colsample=0.8, subsample=0.8, max_depth=i)\n",
    "    alg.fit(X_train, y_train)\n",
    "    pred = alg.predict(X_test)\n",
    "    accur2.append(accuracy_score(y_test, pred))"
   ]
  },
  {
   "cell_type": "code",
   "execution_count": 51,
   "metadata": {
    "scrolled": true
   },
   "outputs": [
    {
     "data": {
      "text/plain": [
       "[0.8337209302325581,\n",
       " 0.8443798449612403,\n",
       " 0.8594961240310077,\n",
       " 0.8833333333333333,\n",
       " 0.8963178294573644,\n",
       " 0.8920542635658915,\n",
       " 0.8905038759689923]"
      ]
     },
     "execution_count": 51,
     "metadata": {},
     "output_type": "execute_result"
    }
   ],
   "source": [
    "accur2"
   ]
  },
  {
   "cell_type": "markdown",
   "metadata": {},
   "source": [
    "best_depth = 7"
   ]
  },
  {
   "cell_type": "code",
   "execution_count": 56,
   "metadata": {},
   "outputs": [
    {
     "data": {
      "text/plain": [
       "0.890891472868217"
      ]
     },
     "execution_count": 56,
     "metadata": {},
     "output_type": "execute_result"
    }
   ],
   "source": [
    "alg = MyGradientBoostingClassifier(loss='MSE',n_estimators=30,\n",
    "                                   learning_rate=0.05,colsample=0.8,\n",
    "                                   subsample=0.8, max_depth=7)\n",
    "alg.fit(X_train, y_train)\n",
    "pred = alg.predict(X_test)\n",
    "accuracy_score(y_test, pred)"
   ]
  },
  {
   "cell_type": "code",
   "execution_count": 77,
   "metadata": {},
   "outputs": [
    {
     "data": {
      "text/plain": [
       "0.8765503875968992"
      ]
     },
     "execution_count": 77,
     "metadata": {},
     "output_type": "execute_result"
    }
   ],
   "source": [
    "alg = MyGradientBoostingClassifier(loss='EXP',n_estimators=30,\n",
    "                                   learning_rate=0.05,colsample=0.8,\n",
    "                                   subsample=0.8, max_depth=7)\n",
    "alg.fit(X_train, y_train)\n",
    "pred = alg.predict(X_test)\n",
    "accuracy_score(y_test, pred)"
   ]
  },
  {
   "cell_type": "code",
   "execution_count": 78,
   "metadata": {},
   "outputs": [
    {
     "data": {
      "text/plain": [
       "0.7887596899224806"
      ]
     },
     "execution_count": 78,
     "metadata": {},
     "output_type": "execute_result"
    }
   ],
   "source": [
    "alg = MyGradientBoostingClassifier(loss='LOG',n_estimators=30,\n",
    "                                   learning_rate=0.05,colsample=0.8,\n",
    "                                   subsample=0.8, max_depth=7)\n",
    "alg.fit(X_train, y_train)\n",
    "pred = alg.predict(X_test)\n",
    "accuracy_score(y_test, pred)"
   ]
  },
  {
   "cell_type": "markdown",
   "metadata": {},
   "source": [
    "## BooBag BagBoo (1 балл)\n",
    "\n"
   ]
  },
  {
   "cell_type": "markdown",
   "metadata": {},
   "source": [
    "Попробуем объединить бустинг и бэгинг. Давайте\n",
    "\n",
    "1) в качестве базовой модели брать не дерево решений, а случайный лес (из sklearn)\n",
    "\n",
    "2) обучать N бустингов на бустрапированной выборке, а затем предикт усреднять"
   ]
  },
  {
   "cell_type": "markdown",
   "metadata": {},
   "source": [
    "Попробуйте обе этих стратегии на данных из прошлого задания. Получилось ли улучшить качество? Почему?"
   ]
  },
  {
   "cell_type": "code",
   "execution_count": null,
   "metadata": {},
   "outputs": [],
   "source": [
    "from sklearn.ensemble import RandomForestRegressor, RandomForestClassifier"
   ]
  },
  {
   "cell_type": "code",
   "execution_count": 83,
   "metadata": {},
   "outputs": [
    {
     "data": {
      "text/plain": [
       "0.8992248062015504"
      ]
     },
     "execution_count": 83,
     "metadata": {},
     "output_type": "execute_result"
    }
   ],
   "source": [
    "alg = MyGradientBoostingClassifier(loss ='MSE', n_estimators=80,\n",
    "                                   learning_rate=0.05,colsample=0.8,\n",
    "                                   subsample=0.8, max_depth=7)\n",
    "alg.fit(X_train, y_train, base_model=RandomForestRegressor)\n",
    "y_pred = alg.predict(X_test)\n",
    "accuracy_score(y_pred, y_test)"
   ]
  },
  {
   "cell_type": "code",
   "execution_count": 85,
   "metadata": {},
   "outputs": [],
   "source": [
    "prs = np.zeros_like(y_test)\n",
    "for i in range(1000):\n",
    "    alg = MyGradientBoostingClassifier(loss ='MSE', n_estimators=50,\n",
    "                                       learning_rate=0.05,colsample=0.8,\n",
    "                                       subsample=0.8, max_depth=7)\n",
    "    alg.fit(X_train, y_train)\n",
    "    prs += alg.predict(X_test)"
   ]
  },
  {
   "cell_type": "code",
   "execution_count": 90,
   "metadata": {
    "scrolled": true
   },
   "outputs": [
    {
     "data": {
      "text/plain": [
       "0.8527131782945736"
      ]
     },
     "execution_count": 90,
     "metadata": {},
     "output_type": "execute_result"
    }
   ],
   "source": [
    "accuracy_score((prs/1000).astype('int'), y_test)"
   ]
  },
  {
   "cell_type": "markdown",
   "metadata": {},
   "source": [
    "Удалось немного увеличить качество в первой стратегии. Предположительно, это из-за того, что RandomForestRegressor более мощный алгоритм, чеб decision tree и лучше учится."
   ]
  },
  {
   "cell_type": "markdown",
   "metadata": {
    "collapsed": true
   },
   "source": [
    "## Умная инициализация (1 балл)\n",
    "\n",
    "Попробуйте брать в качестве инициализации бустинга не константу, а какой-то алгоритм и уже от его предикта стартовать итерации бустинга. Попробуйте разные модели из sklearn: линейные модели, рандом форест, svm..\n",
    "\n",
    "Получилось ли улучшить качество? Почему?\n",
    "\n"
   ]
  },
  {
   "cell_type": "code",
   "execution_count": 19,
   "metadata": {},
   "outputs": [],
   "source": [
    "from sklearn.linear_model import LogisticRegression,LinearRegression\n",
    "from sklearn.svm import SVC"
   ]
  },
  {
   "cell_type": "code",
   "execution_count": 85,
   "metadata": {},
   "outputs": [
    {
     "data": {
      "text/plain": [
       "0.7866279069767442"
      ]
     },
     "execution_count": 85,
     "metadata": {},
     "output_type": "execute_result"
    }
   ],
   "source": [
    "alg = MyGradientBoostingClassifier(loss ='EXP', n_estimators=30,\n",
    "                                   learning_rate=0.05,colsample=0.8,\n",
    "                                   subsample=0.8, max_depth=7)\n",
    "alg.fit(X_train, y_train, init_model=LinearRegression())\n",
    "y_pred = alg.predict(X_test)\n",
    "accuracy_score(y_pred, y_test)"
   ]
  },
  {
   "cell_type": "code",
   "execution_count": 23,
   "metadata": {
    "scrolled": true
   },
   "outputs": [
    {
     "data": {
      "text/plain": [
       "0.664922480620155"
      ]
     },
     "execution_count": 23,
     "metadata": {},
     "output_type": "execute_result"
    }
   ],
   "source": [
    "alg = MyGradientBoostingClassifier(loss ='EXP', n_estimators=30,\n",
    "                                   learning_rate=0.05,colsample=0.8,\n",
    "                                   subsample=0.8, max_depth=7)\n",
    "alg.fit(X_train, y_train, init_model=LogisticRegression(max_iter=400))\n",
    "y_pred = alg.predict(X_test)\n",
    "accuracy_score(y_pred, y_test)"
   ]
  },
  {
   "cell_type": "code",
   "execution_count": 72,
   "metadata": {},
   "outputs": [
    {
     "name": "stderr",
     "output_type": "stream",
     "text": [
      "/home/chris/anaconda3/lib/python3.8/site-packages/sklearn/svm/_base.py:246: ConvergenceWarning: Solver terminated early (max_iter=20).  Consider pre-processing your data with StandardScaler or MinMaxScaler.\n",
      "  warnings.warn('Solver terminated early (max_iter=%i).'\n"
     ]
    },
    {
     "data": {
      "text/plain": [
       "0.8664728682170543"
      ]
     },
     "execution_count": 72,
     "metadata": {},
     "output_type": "execute_result"
    }
   ],
   "source": [
    "alg = MyGradientBoostingClassifier(loss ='EXP', n_estimators=30,\n",
    "                                   learning_rate=0.05,colsample=0.8,\n",
    "                                   subsample=0.8, max_depth=7)\n",
    "alg.fit(X_train, y_train, init_model=SVC(kernel='linear',max_iter=4000))\n",
    "y_pred = alg.predict(X_test)\n",
    "accuracy_score(y_pred, y_test)"
   ]
  },
  {
   "cell_type": "code",
   "execution_count": 65,
   "metadata": {},
   "outputs": [
    {
     "name": "stderr",
     "output_type": "stream",
     "text": [
      "/home/chris/anaconda3/lib/python3.8/site-packages/sklearn/svm/_base.py:246: ConvergenceWarning: Solver terminated early (max_iter=20).  Consider pre-processing your data with StandardScaler or MinMaxScaler.\n",
      "  warnings.warn('Solver terminated early (max_iter=%i).'\n"
     ]
    },
    {
     "data": {
      "text/plain": [
       "0.7451550387596899"
      ]
     },
     "execution_count": 65,
     "metadata": {},
     "output_type": "execute_result"
    }
   ],
   "source": [
    "alg = MyGradientBoostingClassifier(loss ='EXP', n_estimators=30,\n",
    "                                   learning_rate=0.05,colsample=0.8,\n",
    "                                   subsample=0.8, max_depth=7)\n",
    "alg.fit(X_train, y_train, init_model=SVC(kernel='rbf',max_iter=20))\n",
    "y_pred = alg.predict(X_test)\n",
    "accuracy_score(y_pred, y_test)"
   ]
  },
  {
   "cell_type": "code",
   "execution_count": 75,
   "metadata": {},
   "outputs": [
    {
     "data": {
      "text/plain": [
       "0.5800387596899225"
      ]
     },
     "execution_count": 75,
     "metadata": {},
     "output_type": "execute_result"
    }
   ],
   "source": [
    "alg = MyGradientBoostingClassifier(loss ='EXP', n_estimators=30,\n",
    "                                   learning_rate=0.05,colsample=0.8,\n",
    "                                   subsample=0.8, max_depth=7)\n",
    "alg.fit(X_train, y_train, init_model=RandomForestRegressor())\n",
    "y_pred = alg.predict(X_test)\n",
    "accuracy_score(y_pred, y_test)"
   ]
  },
  {
   "cell_type": "code",
   "execution_count": 77,
   "metadata": {},
   "outputs": [
    {
     "data": {
      "text/plain": [
       "0.5800387596899225"
      ]
     },
     "execution_count": 77,
     "metadata": {},
     "output_type": "execute_result"
    }
   ],
   "source": [
    "alg = MyGradientBoostingClassifier(loss ='MSE', n_estimators=30,\n",
    "                                   learning_rate=0.05,colsample=0.8,\n",
    "                                   subsample=0.8, max_depth=7)\n",
    "alg.fit(X_train, y_train, init_model=RandomForestClassifier())\n",
    "y_pred = alg.predict(X_test)\n",
    "accuracy_score(y_pred, y_test)"
   ]
  },
  {
   "cell_type": "markdown",
   "metadata": {},
   "source": [
    "Точность здесь только падает. Возможно, это связано с тем, сто первык классификатор исправляет часть ошибок на тестовой выборке и далее остальные модели учатся слабее."
   ]
  },
  {
   "cell_type": "markdown",
   "metadata": {},
   "source": [
    "## Фидбек (бесценно)"
   ]
  },
  {
   "cell_type": "markdown",
   "metadata": {},
   "source": [
    "* Какие аспекты обучения  ансамблей Вам показались непонятными? Какое место стоит дополнительно объяснить?"
   ]
  },
  {
   "cell_type": "markdown",
   "metadata": {},
   "source": [
    "### Ваш ответ здесь"
   ]
  },
  {
   "cell_type": "markdown",
   "metadata": {},
   "source": [
    "* Здесь Вы можете оставить отзыв о этой домашней работе или о всем курсе."
   ]
  },
  {
   "cell_type": "markdown",
   "metadata": {},
   "source": [
    "### ВАШ ОТЗЫВ ЗДЕСЬ\n",
    "\n"
   ]
  },
  {
   "cell_type": "markdown",
   "metadata": {
    "collapsed": true
   },
   "source": [
    "Все понятно, все хорошо!"
   ]
  },
  {
   "cell_type": "code",
   "execution_count": null,
   "metadata": {
    "collapsed": true
   },
   "outputs": [],
   "source": []
  }
 ],
 "metadata": {
  "anaconda-cloud": {},
  "kernelspec": {
   "display_name": "Python 3",
   "language": "python",
   "name": "python3"
  },
  "language_info": {
   "codemirror_mode": {
    "name": "ipython",
    "version": 3
   },
   "file_extension": ".py",
   "mimetype": "text/x-python",
   "name": "python",
   "nbconvert_exporter": "python",
   "pygments_lexer": "ipython3",
   "version": "3.8.5"
  }
 },
 "nbformat": 4,
 "nbformat_minor": 2
}
