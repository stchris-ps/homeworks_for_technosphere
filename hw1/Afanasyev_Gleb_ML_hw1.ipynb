{
 "cells": [
  {
   "cell_type": "markdown",
   "metadata": {
    "id": "Yg2q7jkg4fcy"
   },
   "source": [
    "**Общая информация**\n",
    "\n",
    "**Срок сдачи:** 29 марта 2021, 08:30 \n",
    "\n",
    "**Штраф за опоздание:** по 1 баллу за 24 часа задержки. Через 5 дней домашнее задание сгорает.\n",
    "\n",
    "При отправлении ДЗ указывайте фамилию в названии файла\n",
    "Присылать ДЗ необходимо в виде ссылки на свой github репозиторий на почту ml1.sphere@mail.ru с указанием темы в следующем формате:\n",
    "\n",
    "[ML0220, Задание 1] Фамилия Имя.\n",
    "\n",
    "Используйте данный Ipython Notebook при оформлении домашнего задания."
   ]
  },
  {
   "cell_type": "markdown",
   "metadata": {
    "id": "11kK7B6A4fc-"
   },
   "source": [
    "\n",
    "**Штрафные баллы:**\n",
    "\n",
    "1. Отсутствие фамилии в имени скрипта (скрипт должен называться по аналогии со stroykova_hw1.ipynb) -0.5 баллов\n",
    "2. Все строчки должны быть выполнены. Нужно, чтобы output команды можно было увидеть уже в git'е. В противном случае -0.5 баллов\n"
   ]
  },
  {
   "cell_type": "code",
   "execution_count": 1,
   "metadata": {
    "id": "EyPM3H9p4fdB"
   },
   "outputs": [],
   "source": [
    "import numpy as np\n",
    "import matplotlib.pyplot as plt\n",
    "\n",
    "import seaborn as sns\n",
    "from sklearn import datasets\n",
    "from sklearn.base import BaseEstimator\n",
    "from sklearn.datasets import fetch_20newsgroups\n",
    "\n",
    "from sklearn.model_selection import train_test_split\n",
    "from sklearn.neighbors import KNeighborsClassifier\n",
    "from sklearn.metrics import accuracy_score"
   ]
  },
  {
   "cell_type": "code",
   "execution_count": 2,
   "metadata": {
    "id": "EqFCoWnO4fdD"
   },
   "outputs": [],
   "source": [
    "from sklearn.neighbors import KDTree"
   ]
  },
  {
   "cell_type": "markdown",
   "metadata": {
    "id": "Kq-CkADN4fdE"
   },
   "source": [
    "##### Задание 1 (1 балл)\n",
    "Реализовать KNN в классе MyKNeighborsClassifier (обязательное условие: точность не ниже sklearn реализации)\n",
    "Разберитесь самостоятельно, какая мера расстояния используется в KNeighborsClassifier дефолтно и реализуйте свой алгоритм именно с этой мерой. \n",
    "Для подсчета расстояний можно использовать функции [отсюда](https://docs.scipy.org/doc/scipy/reference/spatial.distance.html)"
   ]
  },
  {
   "cell_type": "markdown",
   "metadata": {
    "id": "9c8kdCSA4fdF"
   },
   "source": [
    "В свое время мне пришлось реализовать свою функцию для подсчета евклидова и косинусного расстояния, поэтому я здесь буду использовать её."
   ]
  },
  {
   "cell_type": "code",
   "execution_count": 3,
   "metadata": {
    "id": "GiFhmL8z4fdH"
   },
   "outputs": [],
   "source": [
    "def euclidean_distance(X, Y):\n",
    "    if len(X.shape)==1:\n",
    "        X = X[np.newaxis,:]\n",
    "    if len(Y.shape)==1:\n",
    "        Y = Y[np.newaxis,:]\n",
    "    nx, p = X.shape\n",
    "    matrX = np.empty((nx, 3*p))\n",
    "    matrX[:, :p] = 1\n",
    "    matrX[:, p:2*p] = X\n",
    "    matrX[:, 2*p:] = np.square(X)\n",
    "    ny = Y.shape[0]\n",
    "    matrY = np.empty((3*p, ny))\n",
    "    matrY[:p] = np.square(Y).T\n",
    "    matrY[p:2*p] = -2*Y.T\n",
    "    matrY[2*p:] = 1\n",
    "    return np.sqrt(matrX.dot(matrY))\n",
    "\n",
    "def cosine_distance(X, Y):\n",
    "    if len(X.shape)==1:\n",
    "        X = X[np.newaxis,:]\n",
    "    if len(Y.shape)==1:\n",
    "        Y = Y[np.newaxis,:]\n",
    "    U = Y.T\n",
    "    v1 = X ** 2\n",
    "    v1 = np.sum(v1, axis=1).reshape(-1,1)\n",
    "    v2 = Y ** 2\n",
    "    v2 = np.sum(v2, axis=1).reshape(1,-1)\n",
    "    div = np.dot(np.sqrt(v1), np.sqrt(v2))\n",
    "    ans = np.ones((len(X), len(Y))) - np.dot(X,U)/div\n",
    "    return ans"
   ]
  },
  {
   "cell_type": "code",
   "execution_count": 4,
   "metadata": {
    "id": "Ww4fB-CISjYK"
   },
   "outputs": [],
   "source": [
    "METRICS = {\n",
    "    'euclidean':euclidean_distance,\n",
    "    'cosine':cosine_distance\n",
    "}"
   ]
  },
  {
   "cell_type": "code",
   "execution_count": 5,
   "metadata": {
    "id": "eUMxbPa44fdI"
   },
   "outputs": [],
   "source": [
    "class MyKNeighborsClassifier(BaseEstimator):\n",
    "    \n",
    "    def __init__(self, n_neighbors, algorithm='brute', metric='euclidean'):\n",
    "        self.k = n_neighbors\n",
    "        self.algorithm = algorithm\n",
    "        self.metric = metric\n",
    "    \n",
    "    def fit(self, X, y):\n",
    "        if self.algorithm=='brute':\n",
    "            self.X = X\n",
    "        elif self.algorithm=='kd_tree':\n",
    "            self.tree = KDTree(X)\n",
    "        self.y = y\n",
    "    \n",
    "    def predict(self, X):\n",
    "        if self.algorithm=='brute':\n",
    "            matr = METRICS[self.metric](X, self.X)\n",
    "            ind = matr.argsort()[:,:self.k]\n",
    "        elif self.algorithm=='kd_tree':\n",
    "            dist, ind = self.tree.query(X, k=self.k)\n",
    "            \n",
    "        answmatr = np.array([self.y[i] for i in ind])\n",
    "        gc = np.array([np.argmax(np.bincount(j)) for j in answmatr])\n",
    "        return gc\n",
    "    \n",
    "    #У меня довольно долго считался cross validation, поэтому для его оптимизации была изменена \n",
    "    #логика реализации на ту, которая учитывает специфику knn и для нее требуется этот метод\n",
    "    def find_kneighbours(self, X):\n",
    "        if self.algorithm=='brute':\n",
    "            matr = METRICS[self.metric](X, self.X)\n",
    "            ind = matr.argsort()[:,:self.k]\n",
    "        elif self.algorithm=='kd_tree':\n",
    "            dist, ind = self.tree.query(X, k=self.k)\n",
    "        return ind"
   ]
  },
  {
   "cell_type": "markdown",
   "metadata": {
    "id": "V3QhtEHI4fdK"
   },
   "source": [
    "**IRIS**\n",
    "\n",
    "В библиотеке scikit-learn есть несколько датасетов из коробки. Один из них [Ирисы Фишера](https://ru.wikipedia.org/wiki/%D0%98%D1%80%D0%B8%D1%81%D1%8B_%D0%A4%D0%B8%D1%88%D0%B5%D1%80%D0%B0)"
   ]
  },
  {
   "cell_type": "code",
   "execution_count": 6,
   "metadata": {
    "id": "QnF8S4Mo4fdK"
   },
   "outputs": [],
   "source": [
    "iris = datasets.load_iris()"
   ]
  },
  {
   "cell_type": "code",
   "execution_count": 7,
   "metadata": {
    "id": "HaILMXKl4fdL"
   },
   "outputs": [],
   "source": [
    "X_train, X_test, y_train, y_test = train_test_split(iris.data, iris.target, test_size=0.1, stratify=iris.target)"
   ]
  },
  {
   "cell_type": "code",
   "execution_count": 8,
   "metadata": {
    "id": "QjwisREw4fdN"
   },
   "outputs": [],
   "source": [
    "clf = KNeighborsClassifier(n_neighbors=2, algorithm='brute')\n",
    "my_clf = MyKNeighborsClassifier(n_neighbors=2, algorithm='brute')"
   ]
  },
  {
   "cell_type": "code",
   "execution_count": 9,
   "metadata": {
    "id": "Cidnd3q74fdO"
   },
   "outputs": [],
   "source": [
    "clf.fit(X_train, y_train)\n",
    "my_clf.fit(X_train, y_train)"
   ]
  },
  {
   "cell_type": "code",
   "execution_count": 10,
   "metadata": {
    "id": "GVDzLJQk4fdP"
   },
   "outputs": [],
   "source": [
    "sklearn_pred = clf.predict(X_test)\n",
    "my_clf_pred = my_clf.predict(X_test)\n",
    "assert abs( accuracy_score(y_test, my_clf_pred) -  accuracy_score(y_test, sklearn_pred ) )<0.005, \"Score must be simillar\""
   ]
  },
  {
   "cell_type": "markdown",
   "metadata": {
    "id": "vGkDHTz24fdQ"
   },
   "source": [
    "**Задание 2 (0.5 балла)**\n",
    "\n",
    "Давайте попробуем добиться скорости работы на fit, predict сравнимой со sklearn для iris. Допускается замедление не более чем в 2 раза. \n",
    "Для этого используем numpy. "
   ]
  },
  {
   "cell_type": "code",
   "execution_count": 11,
   "metadata": {
    "colab": {
     "base_uri": "https://localhost:8080/"
    },
    "id": "-rVxli3N4fdQ",
    "outputId": "c6a44787-fcd0-482f-ca56-5fbc2533db2a"
   },
   "outputs": [
    {
     "name": "stdout",
     "output_type": "stream",
     "text": [
      "CPU times: user 629 µs, sys: 0 ns, total: 629 µs\n",
      "Wall time: 638 µs\n"
     ]
    },
    {
     "data": {
      "text/plain": [
       "KNeighborsClassifier(algorithm='brute', leaf_size=30, metric='minkowski',\n",
       "                     metric_params=None, n_jobs=None, n_neighbors=2, p=2,\n",
       "                     weights='uniform')"
      ]
     },
     "execution_count": 11,
     "metadata": {
      "tags": []
     },
     "output_type": "execute_result"
    }
   ],
   "source": [
    "%time clf.fit(X_train, y_train)"
   ]
  },
  {
   "cell_type": "code",
   "execution_count": 12,
   "metadata": {
    "colab": {
     "base_uri": "https://localhost:8080/"
    },
    "id": "yuOxQcAq4fdT",
    "outputId": "073bb43f-01b1-4a72-d992-c480ab315ba0"
   },
   "outputs": [
    {
     "name": "stdout",
     "output_type": "stream",
     "text": [
      "CPU times: user 7 µs, sys: 0 ns, total: 7 µs\n",
      "Wall time: 9.06 µs\n"
     ]
    }
   ],
   "source": [
    "%time my_clf.fit(X_train, y_train)"
   ]
  },
  {
   "cell_type": "code",
   "execution_count": 18,
   "metadata": {
    "colab": {
     "base_uri": "https://localhost:8080/"
    },
    "id": "2A_YjEVB4fdU",
    "outputId": "9294f4f9-8cc3-4695-a09f-d51e35312ac4"
   },
   "outputs": [
    {
     "name": "stdout",
     "output_type": "stream",
     "text": [
      "CPU times: user 3.05 ms, sys: 236 µs, total: 3.28 ms\n",
      "Wall time: 3.35 ms\n"
     ]
    },
    {
     "data": {
      "text/plain": [
       "array([2, 1, 2, 0, 0, 0, 2, 1, 1, 2, 0, 1, 0, 1, 2])"
      ]
     },
     "execution_count": 18,
     "metadata": {
      "tags": []
     },
     "output_type": "execute_result"
    }
   ],
   "source": [
    "%time clf.predict(X_test)"
   ]
  },
  {
   "cell_type": "code",
   "execution_count": 20,
   "metadata": {
    "colab": {
     "base_uri": "https://localhost:8080/"
    },
    "id": "PtYkCJu24fdV",
    "outputId": "9e8b05a8-f7c6-45e7-8677-eaf95b191bc3"
   },
   "outputs": [
    {
     "name": "stdout",
     "output_type": "stream",
     "text": [
      "CPU times: user 472 µs, sys: 0 ns, total: 472 µs\n",
      "Wall time: 1.98 ms\n"
     ]
    },
    {
     "data": {
      "text/plain": [
       "array([2, 1, 2, 0, 0, 0, 2, 1, 1, 2, 0, 1, 0, 1, 2])"
      ]
     },
     "execution_count": 20,
     "metadata": {
      "tags": []
     },
     "output_type": "execute_result"
    }
   ],
   "source": [
    "%time my_clf.predict(X_test)"
   ]
  },
  {
   "cell_type": "markdown",
   "metadata": {
    "id": "8uMscNkn4fdW"
   },
   "source": [
    "###### Задание 3 (1 балл)\n",
    "Добавьте algorithm='kd_tree' в реализацию KNN (использовать KDTree из sklearn.neighbors). Необходимо добиться скорости работы на fit,  predict сравнимой со sklearn для iris. Допускается замедление не более чем в 2 раза. \n",
    "Для этого используем numpy. Точность не должна уступать значению KNN из sklearn. "
   ]
  },
  {
   "cell_type": "code",
   "execution_count": 21,
   "metadata": {
    "id": "x6DMEQNO4fdX"
   },
   "outputs": [],
   "source": [
    "clf = KNeighborsClassifier(n_neighbors=2, algorithm='kd_tree')\n",
    "my_clf = MyKNeighborsClassifier(n_neighbors=2, algorithm='kd_tree')"
   ]
  },
  {
   "cell_type": "code",
   "execution_count": 22,
   "metadata": {
    "id": "G0NOhlxV4fdX"
   },
   "outputs": [],
   "source": [
    "X_train, X_test, y_train, y_test = train_test_split(iris.data, iris.target, test_size=0.1, stratify=iris.target)"
   ]
  },
  {
   "cell_type": "code",
   "execution_count": 23,
   "metadata": {
    "colab": {
     "base_uri": "https://localhost:8080/"
    },
    "id": "WGnX2Qey4fdX",
    "outputId": "d2cd8b76-4fa1-48e2-e234-ddc0cdb30049"
   },
   "outputs": [
    {
     "name": "stdout",
     "output_type": "stream",
     "text": [
      "CPU times: user 952 µs, sys: 767 µs, total: 1.72 ms\n",
      "Wall time: 2.45 ms\n"
     ]
    },
    {
     "data": {
      "text/plain": [
       "KNeighborsClassifier(algorithm='kd_tree', leaf_size=30, metric='minkowski',\n",
       "                     metric_params=None, n_jobs=None, n_neighbors=2, p=2,\n",
       "                     weights='uniform')"
      ]
     },
     "execution_count": 23,
     "metadata": {
      "tags": []
     },
     "output_type": "execute_result"
    }
   ],
   "source": [
    "%time clf.fit(X_train, y_train)"
   ]
  },
  {
   "cell_type": "code",
   "execution_count": 24,
   "metadata": {
    "colab": {
     "base_uri": "https://localhost:8080/"
    },
    "id": "gFm3PMva4fdY",
    "outputId": "753f5f66-9a06-4544-9c1d-3118d7474c90"
   },
   "outputs": [
    {
     "name": "stdout",
     "output_type": "stream",
     "text": [
      "CPU times: user 222 µs, sys: 0 ns, total: 222 µs\n",
      "Wall time: 228 µs\n"
     ]
    }
   ],
   "source": [
    "%time my_clf.fit(X_train, y_train)"
   ]
  },
  {
   "cell_type": "code",
   "execution_count": 25,
   "metadata": {
    "colab": {
     "base_uri": "https://localhost:8080/"
    },
    "id": "pqoNGhqc4fdY",
    "outputId": "021e7339-2366-4ba3-ab78-7f3a0a9f791b"
   },
   "outputs": [
    {
     "name": "stdout",
     "output_type": "stream",
     "text": [
      "CPU times: user 3.33 ms, sys: 0 ns, total: 3.33 ms\n",
      "Wall time: 6.83 ms\n"
     ]
    },
    {
     "data": {
      "text/plain": [
       "array([2, 0, 2, 0, 0, 1, 2, 0, 2, 2, 1, 1, 0, 2, 1])"
      ]
     },
     "execution_count": 25,
     "metadata": {
      "tags": []
     },
     "output_type": "execute_result"
    }
   ],
   "source": [
    "%time clf.predict(X_test)"
   ]
  },
  {
   "cell_type": "code",
   "execution_count": 26,
   "metadata": {
    "colab": {
     "base_uri": "https://localhost:8080/"
    },
    "id": "wgErHOv74fda",
    "outputId": "a9201908-c15a-4b6d-f672-b1130a2e11df"
   },
   "outputs": [
    {
     "name": "stdout",
     "output_type": "stream",
     "text": [
      "CPU times: user 473 µs, sys: 17 µs, total: 490 µs\n",
      "Wall time: 510 µs\n"
     ]
    },
    {
     "data": {
      "text/plain": [
       "array([2, 0, 2, 0, 0, 1, 2, 0, 2, 2, 1, 1, 0, 2, 1])"
      ]
     },
     "execution_count": 26,
     "metadata": {
      "tags": []
     },
     "output_type": "execute_result"
    }
   ],
   "source": [
    "%time my_clf.predict(X_test)"
   ]
  },
  {
   "cell_type": "code",
   "execution_count": 27,
   "metadata": {
    "id": "TfFtIfWh4fda"
   },
   "outputs": [],
   "source": [
    "sklearn_pred = clf.predict(X_test)\n",
    "my_clf_pred = my_clf.predict(X_test)\n",
    "assert abs( accuracy_score(y_test, my_clf_pred) -  accuracy_score(y_test, sklearn_pred ) )<0.005, \"Score must be simillar\""
   ]
  },
  {
   "cell_type": "markdown",
   "metadata": {
    "id": "LWWfLlse4fdb"
   },
   "source": [
    "**Задание 4 (2.5 балла)**\n",
    "\n",
    "Рассмотрим новый датасет 20 newsgroups"
   ]
  },
  {
   "cell_type": "code",
   "execution_count": 8,
   "metadata": {
    "colab": {
     "base_uri": "https://localhost:8080/"
    },
    "id": "Nf6kyn5k4fdb",
    "outputId": "930c013f-8207-4714-b3b8-c115ca34f1aa"
   },
   "outputs": [],
   "source": [
    "newsgroups = fetch_20newsgroups(subset='train',remove=['headers','footers', 'quotes'])"
   ]
  },
  {
   "cell_type": "code",
   "execution_count": 9,
   "metadata": {
    "id": "W1KjF8d74fdb"
   },
   "outputs": [],
   "source": [
    "data = newsgroups['data']\n",
    "target = newsgroups['target']"
   ]
  },
  {
   "cell_type": "code",
   "execution_count": 10,
   "metadata": {
    "colab": {
     "base_uri": "https://localhost:8080/"
    },
    "id": "ImfkDD9L4fdc",
    "outputId": "209ded92-f192-4b31-dfdf-c96d4179ecb9"
   },
   "outputs": [
    {
     "data": {
      "text/plain": [
       "list"
      ]
     },
     "execution_count": 10,
     "metadata": {},
     "output_type": "execute_result"
    }
   ],
   "source": [
    "type(data)"
   ]
  },
  {
   "cell_type": "markdown",
   "metadata": {
    "id": "Jp7KhOrm4fdd"
   },
   "source": [
    "Преобразуйте текстовые данные из data с помощью [CountVectorizer](https://scikit-learn.org/stable/modules/generated/sklearn.feature_extraction.text.CountVectorizer.html). Словарь можно ограничить по частотности."
   ]
  },
  {
   "cell_type": "markdown",
   "metadata": {
    "id": "tNyNPCP24fdd"
   },
   "source": [
    "*Так мы получили векторное представление наших текстов. Значит можно приступать к задаче обучения модели*"
   ]
  },
  {
   "cell_type": "markdown",
   "metadata": {
    "id": "lN47FtW_4fdd"
   },
   "source": [
    "Реализуйте разбиение выборки для кросс-валидации на 3 фолдах. Разрешено использовать sklearn.cross_validation"
   ]
  },
  {
   "cell_type": "code",
   "execution_count": 11,
   "metadata": {
    "id": "8NpmKDl_4fdd"
   },
   "outputs": [],
   "source": [
    "from sklearn.feature_extraction.text import CountVectorizer"
   ]
  },
  {
   "cell_type": "code",
   "execution_count": 12,
   "metadata": {
    "id": "7G74_l254fde"
   },
   "outputs": [],
   "source": [
    "vectorizer = CountVectorizer(min_df = 0.01)\n",
    "vect_data = vectorizer.fit_transform(data)"
   ]
  },
  {
   "cell_type": "code",
   "execution_count": 13,
   "metadata": {
    "colab": {
     "base_uri": "https://localhost:8080/"
    },
    "id": "kPZYlhBv-JVR",
    "outputId": "fda907e7-ead1-4861-9208-ef7ad515080a"
   },
   "outputs": [
    {
     "data": {
      "text/plain": [
       "<11314x1380 sparse matrix of type '<class 'numpy.int64'>'\n",
       "\twith 658256 stored elements in Compressed Sparse Row format>"
      ]
     },
     "execution_count": 13,
     "metadata": {},
     "output_type": "execute_result"
    }
   ],
   "source": [
    "vect_data"
   ]
  },
  {
   "cell_type": "code",
   "execution_count": 14,
   "metadata": {
    "id": "7uJRz4IF4fdf"
   },
   "outputs": [],
   "source": [
    "def kfold(n, n_folds=3):\n",
    "    ind = np.arange(n)\n",
    "    siz = n//n_folds\n",
    "    np.random.shuffle(ind)\n",
    "    out = []\n",
    "    for i in range(n_folds):\n",
    "        if i == n_folds-1:\n",
    "            up = n\n",
    "        else:\n",
    "            up = (i+1)*siz\n",
    "        tmp = np.hstack((ind[:i*siz], ind[up:]))\n",
    "        out.append((np.sort(tmp), np.sort(ind[i*siz:up])))\n",
    "    return out"
   ]
  },
  {
   "cell_type": "code",
   "execution_count": 15,
   "metadata": {
    "id": "g-sP80i59TQD"
   },
   "outputs": [],
   "source": [
    "new = vect_data.toarray()"
   ]
  },
  {
   "cell_type": "code",
   "execution_count": 16,
   "metadata": {
    "id": "8Gs4x4qU9le_"
   },
   "outputs": [],
   "source": [
    "vect_data = 0"
   ]
  },
  {
   "cell_type": "markdown",
   "metadata": {
    "id": "AYyFJsFk4fdf"
   },
   "source": [
    "Напишите метод, позволяющий найти оптимальное количество ближайших соседей(дающее максимальную точность в среднем на валидации на 3 фолдах).\n",
    "Постройте график зависимости средней точности от количества соседей. Можно рассмотреть число соседей от 1 до 10."
   ]
  },
  {
   "cell_type": "code",
   "execution_count": 19,
   "metadata": {
    "id": "nxvzp05P4fdg"
   },
   "outputs": [],
   "source": [
    "def find_better_neighbours(X, y, neighbours_list, **kwargs):\n",
    "    res = {}\n",
    "    n_folds = 3\n",
    "    cv=kfold(X.shape[0], n_folds)\n",
    "        \n",
    "    for k in neighbours_list:\n",
    "        res[k] = 0  \n",
    "        \n",
    "    knn = MyKNeighborsClassifier(n_neighbors=neighbours_list[-1], **kwargs)\n",
    "    yset = set(y)\n",
    "    for itrain, itest in cv:\n",
    "        X_train, X_test = X[itrain], X[itest]\n",
    "        y_train, y_test = y[itrain], y[itest]\n",
    "        knn.fit(X_train, y_train)\n",
    "        ind = knn.find_kneighbours(X_test)\n",
    "        \n",
    "        for k in neighbours_list:\n",
    "\n",
    "            ind_k = ind[:, :k]\n",
    "            answmatr = np.array([y_train[i] for i in ind_k])\n",
    "            win = np.array([np.argmax(np.bincount(j)) for j in answmatr])\n",
    "            scores = np.sum(y_test == win) / y_test.shape[0]\n",
    "            res[k] += scores\n",
    "            #print(scores)\n",
    "    for i in res.keys():\n",
    "        res[i] /= n_folds\n",
    "    return res"
   ]
  },
  {
   "cell_type": "code",
   "execution_count": 20,
   "metadata": {
    "id": "R5tNcrA-4fdg"
   },
   "outputs": [],
   "source": [
    "dct = find_better_neighbours(new, target, [1,2,3,4,5,6,7,8,9,10,12,14,15,17,20, 30, 50, 100, 150], algorithm='brute')"
   ]
  },
  {
   "cell_type": "code",
   "execution_count": 21,
   "metadata": {
    "colab": {
     "base_uri": "https://localhost:8080/",
     "height": 295
    },
    "id": "eyemv-jeQvfi",
    "outputId": "1df1b454-8bad-442d-fab2-39844900aa0a"
   },
   "outputs": [
    {
     "data": {
      "image/png": "[encoded data removed]",
      "text/plain": [
       "<Figure size 720x288 with 1 Axes>"
      ]
     },
     "metadata": {
      "needs_background": "light"
     },
     "output_type": "display_data"
    }
   ],
   "source": [
    "plt.figure(figsize=(10,4))\n",
    "plt.plot(list(dct.keys()),list(dct.values()))\n",
    "plt.title('dependency of accurasy on the number of neighbours')\n",
    "plt.xlabel('Number of neighbours')\n",
    "plt.ylabel('Accuracy')\n",
    "plt.grid()\n",
    "plt.show()"
   ]
  },
  {
   "cell_type": "markdown",
   "metadata": {
    "id": "4H3XWEnsSCIp"
   },
   "source": [
    "Можно видеть, что лучший результат достигается на 18 соседях, после чего качество падает."
   ]
  },
  {
   "cell_type": "markdown",
   "metadata": {
    "id": "4suX9wry4fdg"
   },
   "source": [
    "Как изменится качество на валидации, если:\n",
    "\n",
    "1. Используется косинусная метрика вместо евклидовой.\n",
    "2. К текстам применяется TfIdf векторизацию( sklearn.feature_extraction.text.TfidfVectorizer)\n",
    "\n",
    "Сравните модели, выберите лучшую."
   ]
  },
  {
   "cell_type": "code",
   "execution_count": 67,
   "metadata": {
    "colab": {
     "base_uri": "https://localhost:8080/"
    },
    "id": "iadAeCz1TcYc",
    "outputId": "bfe83e75-0877-481b-98de-70158e1fef0b"
   },
   "outputs": [
    {
     "name": "stdout",
     "output_type": "stream",
     "text": [
      "[]\n",
      "[]\n",
      "[]\n",
      "[]\n",
      "[]\n",
      "[]\n"
     ]
    }
   ],
   "source": [
    "dct_cosine = find_better_neighbours(new, target, [1,2,3,4,5,6,7,8,9,10,12,14,15,17,20, 30, 50, 100, 150], algorithm='brute', metric='cosine')"
   ]
  },
  {
   "cell_type": "code",
   "execution_count": 26,
   "metadata": {
    "id": "7NZpm-XcUEbx"
   },
   "outputs": [],
   "source": [
    "from sklearn.feature_extraction.text import TfidfVectorizer"
   ]
  },
  {
   "cell_type": "code",
   "execution_count": 27,
   "metadata": {
    "id": "t8Exn1aGT8p0"
   },
   "outputs": [],
   "source": [
    "vectorizer1 = TfidfVectorizer(min_df = 0.01)\n",
    "vect_data1 = vectorizer1.fit_transform(data)\n",
    "new1 = vect_data1.toarray()"
   ]
  },
  {
   "cell_type": "code",
   "execution_count": 64,
   "metadata": {
    "colab": {
     "base_uri": "https://localhost:8080/"
    },
    "id": "tMrPMM5QT09d",
    "outputId": "5b42f11a-41d9-4e5e-bd67-b2ec1b9ac398"
   },
   "outputs": [
    {
     "name": "stdout",
     "output_type": "stream",
     "text": [
      "[]\n",
      "[]\n",
      "[]\n",
      "[]\n",
      "[]\n",
      "[]\n",
      "ok\n"
     ]
    }
   ],
   "source": [
    "dct_tfidf_cosine = find_better_neighbours(new1, target, [1,2,3,4,5,6,7,8,9,10,12,14,15,17,20, 30, 50, 100, 150], algorithm='brute', metric='cosine')\n",
    "print('ok')\n",
    "dct_tfidf_eucl = find_better_neighbours(new1, target, [1,2,3,4,5,6,7,8,9,10,12,14,15,17,20, 30, 50, 100, 150], algorithm='brute', metric='euclidean')"
   ]
  },
  {
   "cell_type": "code",
   "execution_count": 68,
   "metadata": {
    "colab": {
     "base_uri": "https://localhost:8080/",
     "height": 404
    },
    "id": "F2xWS8TWWJUY",
    "outputId": "3e340d45-8948-452a-c010-f601299a7cae"
   },
   "outputs": [
    {
     "data": {
      "image/png": "[encoded data removed]",
      "text/plain": [
       "<Figure size 936x432 with 1 Axes>"
      ]
     },
     "metadata": {
      "needs_background": "light",
      "tags": []
     },
     "output_type": "display_data"
    }
   ],
   "source": [
    "plt.figure(figsize=(13,6))\n",
    "plt.plot(list(dct.keys()),list(dct.values()),label='euclidean, count_vectorizer')\n",
    "plt.plot(list(dct_cosine.keys()),list(dct_cosine.values()),label='cosine, count_vectorizer')\n",
    "plt.plot(list(dct_tfidf_cosine.keys()),list(dct_tfidf_cosine.values()),label='cosine, Tfidf_vectorizer')\n",
    "plt.plot(list(dct_tfidf_eucl.keys()),list(dct_tfidf_eucl.values()),label='euclidean, Tfidf_vectorizer')\n",
    "plt.title('dependency of accurasy on the number of neighbours')\n",
    "plt.xlabel('Number of neighbours')\n",
    "plt.ylabel('Accuracy')\n",
    "plt.legend()\n",
    "plt.grid()\n",
    "plt.show()"
   ]
  },
  {
   "cell_type": "markdown",
   "metadata": {
    "id": "i50Y4vr4Y1nN"
   },
   "source": [
    "Как видно, лучше всего работает алгоритм с Tfidf при косинусой метрике на 10 соседях. Следующий по качеству это Count_vectorizer с косинусой метрикой. Хуже всего работают алгоритмы с евклидовой метрикой."
   ]
  },
  {
   "cell_type": "markdown",
   "metadata": {
    "id": "DR6eo35C4fdg"
   },
   "source": [
    "Загрузим  теперь test  часть нашей выборки и преобразуем её аналогично с train частью. Не забудьте, что наборы слов в train и test части могут отличаться."
   ]
  },
  {
   "cell_type": "code",
   "execution_count": 22,
   "metadata": {
    "id": "w5dJBAGg4fdg"
   },
   "outputs": [],
   "source": [
    "newsgroups = fetch_20newsgroups(subset='test',remove=['headers','footers', 'quotes'])"
   ]
  },
  {
   "cell_type": "code",
   "execution_count": 23,
   "metadata": {
    "id": "lL-TeJQtZPNZ"
   },
   "outputs": [],
   "source": [
    "test = newsgroups['data']\n",
    "target_test = newsgroups['target']"
   ]
  },
  {
   "cell_type": "code",
   "execution_count": 28,
   "metadata": {
    "id": "YucFnm2XZfk8"
   },
   "outputs": [],
   "source": [
    "vect_data2 = vectorizer1.transform(test)\n",
    "new_test = vect_data2.toarray()"
   ]
  },
  {
   "cell_type": "markdown",
   "metadata": {
    "id": "rg3agTie4fdh"
   },
   "source": [
    "Оценим точность вашей лучшей модели на test части датасета. Отличается ли оно от кросс-валидации? Попробуйте сделать выводы, почему отличается качество."
   ]
  },
  {
   "cell_type": "code",
   "execution_count": 31,
   "metadata": {
    "colab": {
     "base_uri": "https://localhost:8080/"
    },
    "id": "65NfOYQ54fdi",
    "outputId": "186a3965-7c05-4549-a8c0-202ae41b1226"
   },
   "outputs": [
    {
     "name": "stdout",
     "output_type": "stream",
     "text": [
      "0.3797132235793946\n"
     ]
    }
   ],
   "source": [
    "my_clf = MyKNeighborsClassifier(n_neighbors=10, algorithm='brute', metric='cosine')\n",
    "my_clf.fit(new1, target)\n",
    "preds = my_clf.predict(new_test)\n",
    "print(np.sum(preds==target_test)/len(target_test))"
   ]
  },
  {
   "cell_type": "markdown",
   "metadata": {
    "id": "EPNm6Vfza7Kj"
   },
   "source": [
    "Как видно, качество на тесте чуть ниже, чем на валидации, так как во-первых, подбирали мы оптимальное количество соседей именно для валидации, а во-вторых, как и отмечалось выше, словарь для тестовой выборки может слегка отличаться от трейновского. Это тоже может сказаться на качестве."
   ]
  }
 ],
 "metadata": {
  "colab": {
   "name": "hw1.ipynb",
   "provenance": []
  },
  "kernelspec": {
   "display_name": "Python 3",
   "language": "python",
   "name": "python3"
  },
  "language_info": {
   "codemirror_mode": {
    "name": "ipython",
    "version": 3
   },
   "file_extension": ".py",
   "mimetype": "text/x-python",
   "name": "python",
   "nbconvert_exporter": "python",
   "pygments_lexer": "ipython3",
   "version": "3.8.5"
  }
 },
 "nbformat": 4,
 "nbformat_minor": 1
}
